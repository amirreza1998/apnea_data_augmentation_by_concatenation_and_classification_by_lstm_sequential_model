{
  "nbformat": 4,
  "nbformat_minor": 0,
  "metadata": {
    "colab": {
      "provenance": [],
      "collapsed_sections": []
    },
    "kernelspec": {
      "name": "python3",
      "display_name": "Python 3"
    },
    "language_info": {
      "name": "python"
    }
  },
  "cells": [
    {
      "cell_type": "code",
      "execution_count": null,
      "metadata": {
        "id": "0jF02pTgD2Pe"
      },
      "outputs": [],
      "source": [
        "!wget https://physionet.org/static/published-projects/ucddb/st-vincents-university-hospital-university-college-dublin-sleep-apnea-database-1.0.0.zip\n",
        "!pip install pyEDFlib==0.1.17"
      ]
    },
    {
      "cell_type": "code",
      "source": [
        "from zipfile import ZipFile as zp\n",
        "with zp(\"st-vincents-university-hospital-university-college-dublin-sleep-apnea-database-1.0.0.zip\") as zip:\n",
        "    zip.extractall(\"vinsent_database\")"
      ],
      "metadata": {
        "id": "Ef3tz0CLD6EQ"
      },
      "execution_count": null,
      "outputs": []
    },
    {
      "cell_type": "code",
      "source": [
        "###get all file in database_directory and change extention of them from rec to edf\n",
        "import glob\n",
        "from pathlib import Path\n",
        "import pickle\n",
        "\n",
        "path = r'/content/vinsent_database/files/*.rec'\n",
        "files = glob.glob(path)\n",
        "print(files)\n",
        "\n",
        "edf_list = list()\n",
        "for file in files:\n",
        "    p = Path(file)\n",
        "    new_p = p.rename(p.with_suffix('.edf'),)\n",
        "    edf_list.append(file.replace('.rec','.edf'))"
      ],
      "metadata": {
        "colab": {
          "base_uri": "https://localhost:8080/"
        },
        "id": "baSqfZnsEAnO",
        "outputId": "b29b661a-573d-450e-847c-6a6715cc2f06"
      },
      "execution_count": null,
      "outputs": [
        {
          "output_type": "stream",
          "name": "stdout",
          "text": [
            "['/content/vinsent_database/files/ucddb014.rec', '/content/vinsent_database/files/ucddb006.rec', '/content/vinsent_database/files/ucddb027.rec', '/content/vinsent_database/files/ucddb024.rec', '/content/vinsent_database/files/ucddb003.rec', '/content/vinsent_database/files/ucddb013.rec', '/content/vinsent_database/files/ucddb009.rec', '/content/vinsent_database/files/ucddb018.rec', '/content/vinsent_database/files/ucddb005.rec', '/content/vinsent_database/files/ucddb022.rec', '/content/vinsent_database/files/ucddb026.rec', '/content/vinsent_database/files/ucddb028.rec', '/content/vinsent_database/files/ucddb007.rec', '/content/vinsent_database/files/ucddb002.rec', '/content/vinsent_database/files/ucddb017.rec', '/content/vinsent_database/files/ucddb015.rec', '/content/vinsent_database/files/ucddb021.rec', '/content/vinsent_database/files/ucddb012.rec', '/content/vinsent_database/files/ucddb023.rec', '/content/vinsent_database/files/ucddb010.rec', '/content/vinsent_database/files/ucddb025.rec', '/content/vinsent_database/files/ucddb008.rec', '/content/vinsent_database/files/ucddb011.rec', '/content/vinsent_database/files/ucddb019.rec', '/content/vinsent_database/files/ucddb020.rec']\n"
          ]
        }
      ]
    },
    {
      "cell_type": "code",
      "source": [
        "edf_list"
      ],
      "metadata": {
        "colab": {
          "base_uri": "https://localhost:8080/"
        },
        "id": "APuC5f7AIGox",
        "outputId": "0a750727-4aae-46ad-bfc8-221327fb85cf"
      },
      "execution_count": null,
      "outputs": [
        {
          "output_type": "execute_result",
          "data": {
            "text/plain": [
              "['/content/vinsent_database/files/ucddb014.edf',\n",
              " '/content/vinsent_database/files/ucddb006.edf',\n",
              " '/content/vinsent_database/files/ucddb027.edf',\n",
              " '/content/vinsent_database/files/ucddb024.edf',\n",
              " '/content/vinsent_database/files/ucddb003.edf',\n",
              " '/content/vinsent_database/files/ucddb013.edf',\n",
              " '/content/vinsent_database/files/ucddb009.edf',\n",
              " '/content/vinsent_database/files/ucddb018.edf',\n",
              " '/content/vinsent_database/files/ucddb005.edf',\n",
              " '/content/vinsent_database/files/ucddb022.edf',\n",
              " '/content/vinsent_database/files/ucddb026.edf',\n",
              " '/content/vinsent_database/files/ucddb028.edf',\n",
              " '/content/vinsent_database/files/ucddb007.edf',\n",
              " '/content/vinsent_database/files/ucddb002.edf',\n",
              " '/content/vinsent_database/files/ucddb017.edf',\n",
              " '/content/vinsent_database/files/ucddb015.edf',\n",
              " '/content/vinsent_database/files/ucddb021.edf',\n",
              " '/content/vinsent_database/files/ucddb012.edf',\n",
              " '/content/vinsent_database/files/ucddb023.edf',\n",
              " '/content/vinsent_database/files/ucddb010.edf',\n",
              " '/content/vinsent_database/files/ucddb025.edf',\n",
              " '/content/vinsent_database/files/ucddb008.edf',\n",
              " '/content/vinsent_database/files/ucddb011.edf',\n",
              " '/content/vinsent_database/files/ucddb019.edf',\n",
              " '/content/vinsent_database/files/ucddb020.edf']"
            ]
          },
          "metadata": {},
          "execution_count": 8
        }
      ]
    },
    {
      "cell_type": "code",
      "source": [
        "import sys\n",
        "from pathlib import Path\n",
        "main_path_script = \"/content/drive/MyDrive/apnea_data\"\n",
        "main_path_script = Path(main_path_script)\n",
        "sys.path.insert(0,main_path_script)"
      ],
      "metadata": {
        "id": "VTGoC-sxGu11"
      },
      "execution_count": null,
      "outputs": []
    },
    {
      "cell_type": "code",
      "source": [
        "from extract_struct_data import extract_data\n",
        "import re\n",
        "\n",
        "dict_of_all = {}\n",
        "dict_of_all_constant = {}\n",
        "\n",
        "for edf_path in edf_list:\n",
        "    case_name = re.findall(\"([^\\/]+).edf$\",edf_path)[0]\n",
        "    print(case_name)\n",
        "    generate_constant_time_dataset,dict_of_apnea_data = extract_data(edf_path, case_name, time_len=20)\n",
        "    dict_of_all[case_name] = dict_of_apnea_data\n",
        "    dict_of_all_constant[case_name] = generate_constant_time_dataset"
      ],
      "metadata": {
        "id": "zDfN40ZLEasv"
      },
      "execution_count": null,
      "outputs": []
    },
    {
      "cell_type": "code",
      "source": [
        "with open('whole_database_apnea_constant.pkl', 'wb') as f:\n",
        "    pickle.dump(dict_of_all_constant, f)\n",
        "with open('whole_database_apnea.pkl', 'wb') as f:\n",
        "    pickle.dump(dict_of_all, f)"
      ],
      "metadata": {
        "id": "VRrvnPs4IA1o"
      },
      "execution_count": null,
      "outputs": []
    }
  ]
}